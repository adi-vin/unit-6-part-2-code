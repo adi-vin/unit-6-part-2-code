{
 "cells": [
  {
   "cell_type": "markdown",
   "id": "98940ed9",
   "metadata": {},
   "source": [
    "# Program 6.9"
   ]
  },
  {
   "cell_type": "markdown",
   "id": "86e6cd50",
   "metadata": {},
   "source": [
    "<b>Statement</b><br>\n",
    "Given a sequence of non-negative integers, where each number is written in a separate line. The sequence ends with 0. Print the index of the first maximum of the sequence.\n",
    "\n",
    "<b>Example input</b><br>\n",
    "1<br>\n",
    "7<br>\n",
    "9<br>\n",
    "5<br>\n",
    "0\n",
    "\n",
    "<b>Example output</b><br>\n",
    "3"
   ]
  },
  {
   "cell_type": "code",
   "execution_count": 4,
   "id": "5980c522",
   "metadata": {},
   "outputs": [
    {
     "name": "stdout",
     "output_type": "stream",
     "text": [
      "1\n",
      "7\n",
      "9\n",
      "5\n",
      "0\n",
      "3\n"
     ]
    }
   ],
   "source": [
    "# write your program here\n",
    "#init count\n",
    "count = 0\n",
    "#while loop with input not equal to 0\n",
    "while int(input()) != 0:\n",
    "    count += 1 \n",
    "#print count\n",
    "print(count-1)"
   ]
  },
  {
   "cell_type": "code",
   "execution_count": 5,
   "id": "e0abaa47",
   "metadata": {},
   "outputs": [
    {
     "name": "stdout",
     "output_type": "stream",
     "text": [
      "1\n",
      "2\n",
      "34\n",
      "0\n",
      "2\n"
     ]
    }
   ],
   "source": [
    "# write your program here\n",
    "#init count\n",
    "count = 0\n",
    "#while loop with input not equal to 0\n",
    "while int(input()) != 0:\n",
    "    count += 1 \n",
    "#print count\n",
    "print(count-1)"
   ]
  },
  {
   "cell_type": "code",
   "execution_count": 6,
   "id": "5403b67c",
   "metadata": {},
   "outputs": [
    {
     "name": "stdout",
     "output_type": "stream",
     "text": [
      "8\n",
      "5\n",
      "4\n",
      "6\n",
      "0\n",
      "3\n"
     ]
    }
   ],
   "source": [
    "# write your program here\n",
    "#init count\n",
    "count = 0\n",
    "#while loop with input not equal to 0\n",
    "while int(input()) != 0:\n",
    "    count += 1 \n",
    "#print count\n",
    "print(count-1)"
   ]
  },
  {
   "cell_type": "markdown",
   "id": "387fad2a",
   "metadata": {},
   "source": [
    "# Program 6.10"
   ]
  },
  {
   "cell_type": "markdown",
   "id": "b4baa34a",
   "metadata": {},
   "source": [
    "<b>Statement</b><br>\n",
    "Given a sequence of non-negative integers, where each number is written in a separate line. The sequence ends with 0. Print the number of even elements of the sequence.\n",
    "\n",
    "<b>Example input</b><br>\n",
    "2<br>\n",
    "1<br>\n",
    "4<br>\n",
    "0\n",
    "\n",
    "<b>Example output</b><br>\n",
    "2"
   ]
  },
  {
   "cell_type": "code",
   "execution_count": 1,
   "id": "707fbdcc",
   "metadata": {},
   "outputs": [
    {
     "name": "stdout",
     "output_type": "stream",
     "text": [
      "2\n",
      "1\n",
      "4\n",
      "0\n",
      "2\n"
     ]
    }
   ],
   "source": [
    "# write your program here\n",
    "#input and initizalze count\n",
    "x = int(input())\n",
    "count = 0\n",
    "#while loop\n",
    "while x != 0:\n",
    "    if x%2 == 0:\n",
    "        count += 1\n",
    "    x = int(input())\n",
    "#print count\n",
    "print(count)"
   ]
  },
  {
   "cell_type": "code",
   "execution_count": 3,
   "id": "c246535b",
   "metadata": {},
   "outputs": [
    {
     "name": "stdout",
     "output_type": "stream",
     "text": [
      "34\n",
      "5\n",
      "3\n",
      "9\n",
      "0\n",
      "1\n"
     ]
    }
   ],
   "source": [
    "# write your program here\n",
    "#input and initizalze count\n",
    "x = int(input())\n",
    "count = 0\n",
    "#while loop\n",
    "while x != 0:\n",
    "    if x%2 == 0:\n",
    "        count += 1\n",
    "    x = int(input())\n",
    "#print count\n",
    "print(count)"
   ]
  },
  {
   "cell_type": "code",
   "execution_count": 4,
   "id": "032768be",
   "metadata": {},
   "outputs": [
    {
     "name": "stdout",
     "output_type": "stream",
     "text": [
      "3\n",
      "8\n",
      "9\n",
      "6\n",
      "0\n",
      "2\n"
     ]
    }
   ],
   "source": [
    "# write your program here\n",
    "#input and initizalze count\n",
    "x = int(input())\n",
    "count = 0\n",
    "#while loop\n",
    "while x != 0:\n",
    "    if x%2 == 0:\n",
    "        count += 1\n",
    "    x = int(input())\n",
    "#print count\n",
    "print(count)"
   ]
  },
  {
   "cell_type": "markdown",
   "id": "da8d47f4",
   "metadata": {},
   "source": [
    "# Program 6.11"
   ]
  },
  {
   "cell_type": "markdown",
   "id": "8fb700f4",
   "metadata": {},
   "source": [
    "<b>Statement</b><br>\n",
    "Given a sequence of non-negative integers, where each number is written in a separate line. The sequence ends with 0. Print the number of elements of the sequence that are greater than their neighbors above.\n",
    "\n",
    "<b>Example input</b><br>\n",
    "1<br>\n",
    "2<br>\n",
    "3<br>\n",
    "4<br>\n",
    "5<br>\n",
    "0\n",
    "\n",
    "<b>Example output</b><br>\n",
    "4"
   ]
  },
  {
   "cell_type": "code",
   "execution_count": 6,
   "id": "05176d59",
   "metadata": {},
   "outputs": [
    {
     "name": "stdout",
     "output_type": "stream",
     "text": [
      "1\n",
      "2\n",
      "3\n",
      "4\n",
      "5\n",
      "0\n",
      "4\n"
     ]
    }
   ],
   "source": [
    "# write your program here\n",
    "#input, empty list called numbers, and initializing count\n",
    "x = int(input())\n",
    "numbers= []\n",
    "count = 0\n",
    "#while loop to append x to numbers list and printing another input\n",
    "while x != 0:\n",
    "    numbers.append(x)\n",
    "    x=int(input())\n",
    "#for loop \n",
    "for i in range(1,len(numbers)):\n",
    "    if numbers[i]>numbers[i-1]:\n",
    "        count += 1\n",
    "#printing count\n",
    "print(count)"
   ]
  },
  {
   "cell_type": "code",
   "execution_count": 8,
   "id": "7615f4b3",
   "metadata": {},
   "outputs": [
    {
     "name": "stdout",
     "output_type": "stream",
     "text": [
      "4\n",
      "3\n",
      "5\n",
      "6\n",
      "3\n",
      "0\n",
      "2\n"
     ]
    }
   ],
   "source": [
    "# write your program here\n",
    "#input, empty list called numbers, and initializing count\n",
    "x = int(input())\n",
    "numbers= []\n",
    "count = 0\n",
    "#while loop to append x to numbers list and printing another input\n",
    "while x != 0:\n",
    "    numbers.append(x)\n",
    "    x=int(input())\n",
    "#for loop \n",
    "for i in range(1,len(numbers)):\n",
    "    if numbers[i]>numbers[i-1]:\n",
    "        count += 1\n",
    "#printing count\n",
    "print(count)"
   ]
  },
  {
   "cell_type": "code",
   "execution_count": 11,
   "id": "34f0116a",
   "metadata": {},
   "outputs": [
    {
     "name": "stdout",
     "output_type": "stream",
     "text": [
      "3\n",
      "5\n",
      "2\n",
      "3\n",
      "9\n",
      "8\n",
      "7\n",
      "0\n",
      "3\n"
     ]
    }
   ],
   "source": [
    "# write your program here\n",
    "#input, empty list called numbers, and initializing count\n",
    "x = int(input())\n",
    "numbers= []\n",
    "count = 0\n",
    "#while loop to append x to numbers list and printing another input\n",
    "while x != 0:\n",
    "    numbers.append(x)\n",
    "    x=int(input())\n",
    "#for loop \n",
    "for i in range(1,len(numbers)):\n",
    "    if numbers[i]>numbers[i-1]:\n",
    "        count += 1\n",
    "#printing count\n",
    "print(count)"
   ]
  },
  {
   "cell_type": "markdown",
   "id": "b1142a18",
   "metadata": {},
   "source": [
    "# Program 6.12"
   ]
  },
  {
   "cell_type": "markdown",
   "id": "d1fedceb",
   "metadata": {},
   "source": [
    "<b>Statement</b><br>\n",
    "Given a sequence of distinct non-negative integers, where each number is written in a separate line. The sequence ends with 0. Print the second largest element in this sequence. It is guaranteed that the sequence has at least two elements.\n",
    "\n",
    "<b>Example input</b><br>\n",
    "1<br>\n",
    "7<br>\n",
    "9<br>\n",
    "0\n",
    "\n",
    "<b>Example output</b><br>\n",
    "7"
   ]
  },
  {
   "cell_type": "code",
   "execution_count": 16,
   "id": "36f58de8",
   "metadata": {},
   "outputs": [
    {
     "name": "stdout",
     "output_type": "stream",
     "text": [
      "1\n",
      "7\n",
      "9\n",
      "0\n",
      "7\n"
     ]
    }
   ],
   "source": [
    "# write your program here\n",
    "#input and numbers list\n",
    "x = int(input())\n",
    "numbers=[]\n",
    "#while loop\n",
    "while x != 0:\n",
    "    numbers.append(x)\n",
    "    x=int(input())\n",
    "#numbers list and sorting list\n",
    "numbers=[int(x) for x in numbers]\n",
    "numbers.sort()\n",
    "#print numbers index -2\n",
    "print(numbers[-2])"
   ]
  },
  {
   "cell_type": "code",
   "execution_count": 17,
   "id": "6be4c4d9",
   "metadata": {},
   "outputs": [
    {
     "name": "stdout",
     "output_type": "stream",
     "text": [
      "3\n",
      "4\n",
      "2\n",
      "5\n",
      "0\n",
      "4\n"
     ]
    }
   ],
   "source": [
    "# write your program here\n",
    "#input and numbers list\n",
    "x = int(input())\n",
    "numbers=[]\n",
    "#while loop\n",
    "while x != 0:\n",
    "    numbers.append(x)\n",
    "    x=int(input())\n",
    "#numbers list and sorting list\n",
    "numbers=[int(x) for x in numbers]\n",
    "numbers.sort()\n",
    "#print numbers index -2\n",
    "print(numbers[-2])"
   ]
  },
  {
   "cell_type": "code",
   "execution_count": 18,
   "id": "8a9806c4",
   "metadata": {},
   "outputs": [
    {
     "name": "stdout",
     "output_type": "stream",
     "text": [
      "5\n",
      "3\n",
      "6\n",
      "8\n",
      "0\n",
      "6\n"
     ]
    }
   ],
   "source": [
    "# write your program here\n",
    "#input and numbers list\n",
    "x = int(input())\n",
    "numbers=[]\n",
    "#while loop\n",
    "while x != 0:\n",
    "    numbers.append(x)\n",
    "    x=int(input())\n",
    "#numbers list and sorting list\n",
    "numbers=[int(x) for x in numbers]\n",
    "numbers.sort()\n",
    "#print numbers index -2\n",
    "print(numbers[-2])"
   ]
  },
  {
   "cell_type": "markdown",
   "id": "1889bb73",
   "metadata": {},
   "source": [
    "# Program 6.13"
   ]
  },
  {
   "cell_type": "markdown",
   "id": "5ecc3d50",
   "metadata": {},
   "source": [
    "<b>Statement</b><br>\n",
    "Given a sequence of non-negative integers, where each number is written in a separate line. The sequence ends with 0. Find how many elements of this sequence are equal to its largest element.\n",
    "    \n",
    "<b>Example input</b><br>\n",
    "1<br>\n",
    "7<br>\n",
    "9<br>\n",
    "0\n",
    "    \n",
    "<b>Example output</b><br>\n",
    "1\n",
    "\n",
    "<b>Example input</b><br>\n",
    "1<br>\n",
    "3<br>\n",
    "3<br>\n",
    "1<br>\n",
    "0\n",
    "    \n",
    "<b>Example output</b><br>\n",
    "2"
   ]
  },
  {
   "cell_type": "code",
   "execution_count": 24,
   "id": "03ff3c87",
   "metadata": {},
   "outputs": [
    {
     "name": "stdout",
     "output_type": "stream",
     "text": [
      "1\n",
      "2\n",
      "2\n",
      "1\n",
      "0\n",
      "2\n"
     ]
    }
   ],
   "source": [
    "# write your program here\n",
    "#variables init max and count and variable is zero=false\n",
    "max=0\n",
    "isZero=False\n",
    "count=0\n",
    "#while loop to check that isZero=false and 2 if statements\n",
    "while isZero == False:\n",
    "    number = int(input())\n",
    "    if number == 0:\n",
    "        isZero = True\n",
    "    else:\n",
    "        if number>max: \n",
    "            max=number\n",
    "            count = 1\n",
    "        elif number==max: \n",
    "            count+=1\n",
    "#print count\n",
    "print(count)"
   ]
  },
  {
   "cell_type": "code",
   "execution_count": 22,
   "id": "c16bd9f9",
   "metadata": {},
   "outputs": [
    {
     "name": "stdout",
     "output_type": "stream",
     "text": [
      "1\n",
      "6\n",
      "6\n",
      "7\n",
      "0\n",
      "1\n"
     ]
    }
   ],
   "source": [
    "# write your program here\n",
    "#variables init max and count and variable is zero=false\n",
    "max=0\n",
    "isZero=False\n",
    "count=0\n",
    "#while loop to check that isZero=false and 2 if statements\n",
    "while isZero == False:\n",
    "    number = int(input())\n",
    "    if number == 0:\n",
    "        isZero = True\n",
    "    else:\n",
    "        if number>max: \n",
    "            max=number\n",
    "            count = 1\n",
    "        elif number==max: \n",
    "            count+=1\n",
    "#print count\n",
    "print(count)"
   ]
  },
  {
   "cell_type": "code",
   "execution_count": 26,
   "id": "db1e4c35",
   "metadata": {},
   "outputs": [
    {
     "name": "stdout",
     "output_type": "stream",
     "text": [
      "1\n",
      "3\n",
      "3\n",
      "1\n",
      "0\n",
      "2\n"
     ]
    }
   ],
   "source": [
    "# write your program here\n",
    "#variables init max and count and variable is zero=false\n",
    "max=0\n",
    "isZero=False\n",
    "count=0\n",
    "#while loop to check that isZero=false and 2 if statements\n",
    "while isZero == False:\n",
    "    number = int(input())\n",
    "    if number == 0:\n",
    "        isZero = True\n",
    "    else:\n",
    "        if number>max: \n",
    "            max=number\n",
    "            count = 1\n",
    "        elif number==max: \n",
    "            count+=1\n",
    "#print count\n",
    "print(count)"
   ]
  },
  {
   "cell_type": "markdown",
   "id": "7db902c9",
   "metadata": {},
   "source": [
    "# Program 6.14"
   ]
  },
  {
   "cell_type": "markdown",
   "id": "3c504aba",
   "metadata": {},
   "source": [
    "<b>Statement</b><br>\n",
    "Given a sequence of non-negative integers, where each number is written in a separate line. The sequence ends with 0. Determine the length of the widest fragment where all the elements are equal to each other.\n",
    "    \n",
    "<b>Example input</b><br>\n",
    "1<br>\n",
    "7<br>\n",
    "7<br>\n",
    "9<br>\n",
    "1<br>\n",
    "0\n",
    "\n",
    "<b>Example output</b><br>\n",
    "2"
   ]
  },
  {
   "cell_type": "code",
   "execution_count": null,
   "id": "87aafd6b",
   "metadata": {},
   "outputs": [],
   "source": [
    "# write your program here\n",
    "x = int(input())\n",
    "prev = x\n",
    "count1 = 1\n",
    "count2 = count\n",
    "\n",
    "while x != 0:\n",
    "    x= int(input())\n",
    "    if x == prev:\n",
    "        count1 += 1\n",
    "        prev = x\n",
    "    else:\n",
    "        if count1 > count2:\n",
    "            count2 = count1\n",
    "        count1 = 1\n",
    "        prev = x\n",
    "print(mcount)"
   ]
  },
  {
   "cell_type": "code",
   "execution_count": null,
   "id": "a60b2875",
   "metadata": {},
   "outputs": [],
   "source": [
    "# write your program here"
   ]
  },
  {
   "cell_type": "code",
   "execution_count": null,
   "id": "aa2a8c6c",
   "metadata": {},
   "outputs": [],
   "source": [
    "# write your program here"
   ]
  },
  {
   "cell_type": "markdown",
   "id": "983027f6",
   "metadata": {},
   "source": [
    "# Program 6.15"
   ]
  },
  {
   "cell_type": "markdown",
   "id": "1854dc43",
   "metadata": {},
   "source": [
    "<b>Statement</b><br>\n",
    "Fibonacci numbers are the numbers in the integer sequence starting with 1, 1 where every number after the first two is the sum of the two preceding ones:<br><br>\n",
    "1, 1, 2, 3, 5, 8, 13, 21, 34, ...<br><br>\n",
    "Given a positive integer n, print the nth Fibonacci number.<br>\n",
    "\n",
    "<b>Example input</b><br>\n",
    "6\n",
    "\n",
    "<b>Example output</b><br>\n",
    "8"
   ]
  },
  {
   "cell_type": "code",
   "execution_count": 27,
   "id": "bc20cd25",
   "metadata": {},
   "outputs": [
    {
     "name": "stdout",
     "output_type": "stream",
     "text": [
      "6\n",
      "8\n"
     ]
    }
   ],
   "source": [
    "# write your program here\n",
    "#input and num list \n",
    "input1=int(input())\n",
    "num=[1, 1]\n",
    "#for loop and appending to num list\n",
    "for i in range(2, input1):\n",
    "    num.append(num[-1] + num[-2])\n",
    "#printing output\n",
    "print(num[input1-1])"
   ]
  },
  {
   "cell_type": "code",
   "execution_count": 28,
   "id": "e55c60ab",
   "metadata": {},
   "outputs": [
    {
     "name": "stdout",
     "output_type": "stream",
     "text": [
      "10\n",
      "55\n"
     ]
    }
   ],
   "source": [
    "# write your program here\n",
    "#input and num list \n",
    "input1=int(input())\n",
    "num=[1, 1]\n",
    "#for loop and appending to num list\n",
    "for i in range(2, input1):\n",
    "    num.append(num[-1] + num[-2])\n",
    "#printing output\n",
    "print(num[input1-1])"
   ]
  },
  {
   "cell_type": "code",
   "execution_count": 29,
   "id": "abbc4ea1",
   "metadata": {},
   "outputs": [
    {
     "name": "stdout",
     "output_type": "stream",
     "text": [
      "55\n",
      "139583862445\n"
     ]
    }
   ],
   "source": [
    "# write your program here\n",
    "#input and num list \n",
    "input1=int(input())\n",
    "num=[1, 1]\n",
    "#for loop and appending to num list\n",
    "for i in range(2, input1):\n",
    "    num.append(num[-1] + num[-2])\n",
    "#printing output\n",
    "print(num[input1-1])"
   ]
  },
  {
   "cell_type": "markdown",
   "id": "80b763a1",
   "metadata": {},
   "source": [
    "# Program 6.16"
   ]
  },
  {
   "cell_type": "markdown",
   "id": "45e5e51c",
   "metadata": {},
   "source": [
    "<b>Statement</b><br>\n",
    "Fibonacci numbers are the numbers in the integer sequence starting with 1, 1 where every number after the first two is the sum of the two preceding ones:<br><br>\n",
    "\n",
    "1, 1, 2, 3, 5, 8, 13, 21, 34, ...<br><br>\n",
    "\n",
    "Given a positive integer, determine if it's the **n**th Fibonacci number for some **n**. If it is, print such **n**, otherwise print **-1**.<br>\n",
    "\n",
    "<b>Example input</b><br>\n",
    "8\n",
    "\n",
    "<b>Example output</b><br>\n",
    "6"
   ]
  },
  {
   "cell_type": "code",
   "execution_count": 31,
   "id": "45c075a6",
   "metadata": {},
   "outputs": [
    {
     "name": "stdout",
     "output_type": "stream",
     "text": [
      "8\n",
      "6\n"
     ]
    }
   ],
   "source": [
    "# write your program here\n",
    "input1=int(input())\n",
    "num=[1, 1]\n",
    "\n",
    "for i in range(2, input1+1):\n",
    "    num.append(num[-1]+num[-2])\n",
    "\n",
    "if num.count(input1) >= 1:\n",
    "    print(num.index(input1)+1)\n",
    "else:\n",
    "    print(-1)"
   ]
  },
  {
   "cell_type": "code",
   "execution_count": null,
   "id": "4b008f86",
   "metadata": {},
   "outputs": [],
   "source": [
    "# write your program here"
   ]
  },
  {
   "cell_type": "code",
   "execution_count": null,
   "id": "13cfe686",
   "metadata": {},
   "outputs": [],
   "source": [
    "# write your program here"
   ]
  }
 ],
 "metadata": {
  "kernel_info": {
   "name": "python"
  },
  "kernelspec": {
   "display_name": "Python 3 (ipykernel)",
   "language": "python",
   "name": "python3"
  },
  "language_info": {
   "codemirror_mode": {
    "name": "ipython",
    "version": 3
   },
   "file_extension": ".py",
   "mimetype": "text/x-python",
   "name": "python",
   "nbconvert_exporter": "python",
   "pygments_lexer": "ipython3",
   "version": "3.9.12"
  },
  "nteract": {
   "version": "nteract-front-end@1.0.0"
  }
 },
 "nbformat": 4,
 "nbformat_minor": 5
}
